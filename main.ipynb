{
 "cells": [
  {
   "cell_type": "code",
   "execution_count": 78,
   "metadata": {},
   "outputs": [
    {
     "name": "stdout",
     "output_type": "stream",
     "text": [
      "Requirement already satisfied: pandas in c:\\users\\ahmed_rafiq\\anaconda3\\lib\\site-packages (1.5.3)\n",
      "Requirement already satisfied: scikit-learn in c:\\users\\ahmed_rafiq\\anaconda3\\lib\\site-packages (1.2.2)\n",
      "Requirement already satisfied: matplotlib in c:\\users\\ahmed_rafiq\\anaconda3\\lib\\site-packages (3.8.2)\n",
      "Requirement already satisfied: seaborn in c:\\users\\ahmed_rafiq\\anaconda3\\lib\\site-packages (0.12.2)\n",
      "Requirement already satisfied: python-dateutil>=2.8.1 in c:\\users\\ahmed_rafiq\\anaconda3\\lib\\site-packages (from pandas) (2.8.2)\n",
      "Requirement already satisfied: pytz>=2020.1 in c:\\users\\ahmed_rafiq\\anaconda3\\lib\\site-packages (from pandas) (2023.3.post1)\n",
      "Requirement already satisfied: numpy>=1.21.0 in c:\\users\\ahmed_rafiq\\anaconda3\\lib\\site-packages (from pandas) (1.24.3)\n",
      "Requirement already satisfied: scipy>=1.3.2 in c:\\users\\ahmed_rafiq\\anaconda3\\lib\\site-packages (from scikit-learn) (1.10.1)\n",
      "Requirement already satisfied: joblib>=1.1.1 in c:\\users\\ahmed_rafiq\\anaconda3\\lib\\site-packages (from scikit-learn) (1.2.0)\n",
      "Requirement already satisfied: threadpoolctl>=2.0.0 in c:\\users\\ahmed_rafiq\\anaconda3\\lib\\site-packages (from scikit-learn) (2.2.0)\n",
      "Requirement already satisfied: contourpy>=1.0.1 in c:\\users\\ahmed_rafiq\\anaconda3\\lib\\site-packages (from matplotlib) (1.0.5)\n",
      "Requirement already satisfied: cycler>=0.10 in c:\\users\\ahmed_rafiq\\anaconda3\\lib\\site-packages (from matplotlib) (0.11.0)\n",
      "Requirement already satisfied: fonttools>=4.22.0 in c:\\users\\ahmed_rafiq\\anaconda3\\lib\\site-packages (from matplotlib) (4.25.0)\n",
      "Requirement already satisfied: kiwisolver>=1.3.1 in c:\\users\\ahmed_rafiq\\anaconda3\\lib\\site-packages (from matplotlib) (1.4.4)\n",
      "Requirement already satisfied: packaging>=20.0 in c:\\users\\ahmed_rafiq\\anaconda3\\lib\\site-packages (from matplotlib) (23.1)\n",
      "Requirement already satisfied: pillow>=8 in c:\\users\\ahmed_rafiq\\anaconda3\\lib\\site-packages (from matplotlib) (9.4.0)\n",
      "Requirement already satisfied: pyparsing>=2.3.1 in c:\\users\\ahmed_rafiq\\anaconda3\\lib\\site-packages (from matplotlib) (3.0.9)\n",
      "Requirement already satisfied: six>=1.5 in c:\\users\\ahmed_rafiq\\anaconda3\\lib\\site-packages (from python-dateutil>=2.8.1->pandas) (1.16.0)\n",
      "Note: you may need to restart the kernel to use updated packages.\n"
     ]
    }
   ],
   "source": [
    "pip install pandas scikit-learn matplotlib seaborn\n"
   ]
  },
  {
   "cell_type": "markdown",
   "metadata": {},
   "source": [
    "#### Challange💪 01\n",
    "- A clean dataset. This means converting the columns to the correct data type, dealing with missing values ...\n"
   ]
  },
  {
   "cell_type": "code",
   "execution_count": 113,
   "metadata": {},
   "outputs": [],
   "source": [
    "import pandas as pd\n",
    "from sklearn.model_selection import train_test_split\n",
    "from sklearn.ensemble import RandomForestClassifier\n",
    "from sklearn.metrics import accuracy_score\n",
    "import matplotlib.pyplot as plt\n",
    "import seaborn as sns\n"
   ]
  },
  {
   "cell_type": "code",
   "execution_count": 114,
   "metadata": {},
   "outputs": [],
   "source": [
    "# Load the dataset\n",
    "df = pd.read_csv('plants_and_bees.csv')"
   ]
  },
  {
   "cell_type": "code",
   "execution_count": 115,
   "metadata": {},
   "outputs": [
    {
     "name": "stdout",
     "output_type": "stream",
     "text": [
      "<class 'pandas.core.frame.DataFrame'>\n",
      "RangeIndex: 1250 entries, 0 to 1249\n",
      "Data columns (total 16 columns):\n",
      " #   Column          Non-Null Count  Dtype  \n",
      "---  ------          --------------  -----  \n",
      " 0   sample_id       1250 non-null   int64  \n",
      " 1   bees_num        1250 non-null   int64  \n",
      " 2   date            1250 non-null   object \n",
      " 3   season          1250 non-null   object \n",
      " 4   site            1250 non-null   object \n",
      " 5   native_or_non   1250 non-null   object \n",
      " 6   sampling        1250 non-null   object \n",
      " 7   plant_species   1250 non-null   object \n",
      " 8   time            1250 non-null   int64  \n",
      " 9   bee_species     1250 non-null   object \n",
      " 10  sex             1250 non-null   object \n",
      " 11  specialized_on  7 non-null      object \n",
      " 12  parasitic       1187 non-null   float64\n",
      " 13  nesting         1196 non-null   object \n",
      " 14  status          15 non-null     object \n",
      " 15  nonnative_bee   1189 non-null   float64\n",
      "dtypes: float64(2), int64(3), object(11)\n",
      "memory usage: 156.4+ KB\n"
     ]
    }
   ],
   "source": [
    "df.info()"
   ]
  },
  {
   "cell_type": "code",
   "execution_count": 116,
   "metadata": {},
   "outputs": [],
   "source": [
    "# Convert 'date' column to datetime data type\n",
    "df['date'] = pd.to_datetime(df['date'], errors='coerce')"
   ]
  },
  {
   "cell_type": "code",
   "execution_count": 117,
   "metadata": {},
   "outputs": [],
   "source": [
    "# Convert 'season' and 'native_or_non' columns to categorical data type\n",
    "df['season'] = df['season'].astype('category')\n",
    "df['native_or_non'] = df['native_or_non'].astype('category')"
   ]
  },
  {
   "cell_type": "code",
   "execution_count": 118,
   "metadata": {},
   "outputs": [],
   "source": [
    "# Fill missing values in 'specialized_on', 'parasitic', 'nesting', 'status', and 'nonnative_bee' columns\n",
    "df['specialized_on'].fillna('', inplace=True)  # Assuming an empty string is a suitable placeholder\n",
    "df['parasitic'].fillna(0, inplace=True)  # Assuming 0 is a suitable placeholder for the 'parasitic' column\n",
    "df['nesting'].fillna('', inplace=True)  # Assuming an empty string is a suitable placeholder\n",
    "df['status'].fillna('', inplace=True)  # Assuming an empty string is a suitable placeholder\n",
    "df['nonnative_bee'].fillna(0, inplace=True)  # Assuming 0 is a suitable placeholder for the 'nonnative_bee' column"
   ]
  },
  {
   "cell_type": "code",
   "execution_count": 119,
   "metadata": {},
   "outputs": [
    {
     "name": "stdout",
     "output_type": "stream",
     "text": [
      "   sample_id  bees_num       date        season site native_or_non   sampling  \\\n",
      "0      17400        23 2017-04-18  early.season    A        native  pan traps   \n",
      "1      17400        23 2017-04-18  early.season    A        native  pan traps   \n",
      "2      17400        23 2017-04-18  early.season    A        native  pan traps   \n",
      "3      17400        23 2017-04-18  early.season    A        native  pan traps   \n",
      "4      17400        23 2017-04-18  early.season    A        native  pan traps   \n",
      "\n",
      "  plant_species  time           bee_species sex specialized_on  parasitic  \\\n",
      "0          None   935  Augochlorella aurata   f                       0.0   \n",
      "1          None   935   Agapostemon texanus   f                       0.0   \n",
      "2          None   935  Augochlorella aurata   f                       0.0   \n",
      "3          None   935       Andrena carlini   f                       0.0   \n",
      "4          None   935      Andrena perplexa   m                       0.0   \n",
      "\n",
      "  nesting status  nonnative_bee  \n",
      "0  ground                   0.0  \n",
      "1  ground                   0.0  \n",
      "2  ground                   0.0  \n",
      "3  ground                   0.0  \n",
      "4  ground                   0.0  \n"
     ]
    }
   ],
   "source": [
    "# Print information about the cleaned dataset\n",
    "print(df.head())"
   ]
  },
  {
   "cell_type": "code",
   "execution_count": 120,
   "metadata": {},
   "outputs": [],
   "source": [
    "# Remove rows where 'plant_species' is 'None'\n",
    "df = df[df['plant_species'] != 'None']"
   ]
  },
  {
   "cell_type": "code",
   "execution_count": 121,
   "metadata": {},
   "outputs": [
    {
     "data": {
      "text/html": [
       "<div>\n",
       "<style scoped>\n",
       "    .dataframe tbody tr th:only-of-type {\n",
       "        vertical-align: middle;\n",
       "    }\n",
       "\n",
       "    .dataframe tbody tr th {\n",
       "        vertical-align: top;\n",
       "    }\n",
       "\n",
       "    .dataframe thead th {\n",
       "        text-align: right;\n",
       "    }\n",
       "</style>\n",
       "<table border=\"1\" class=\"dataframe\">\n",
       "  <thead>\n",
       "    <tr style=\"text-align: right;\">\n",
       "      <th></th>\n",
       "      <th>sample_id</th>\n",
       "      <th>bees_num</th>\n",
       "      <th>date</th>\n",
       "      <th>season</th>\n",
       "      <th>site</th>\n",
       "      <th>native_or_non</th>\n",
       "      <th>sampling</th>\n",
       "      <th>plant_species</th>\n",
       "      <th>time</th>\n",
       "      <th>bee_species</th>\n",
       "      <th>sex</th>\n",
       "      <th>specialized_on</th>\n",
       "      <th>parasitic</th>\n",
       "      <th>nesting</th>\n",
       "      <th>status</th>\n",
       "      <th>nonnative_bee</th>\n",
       "    </tr>\n",
       "  </thead>\n",
       "  <tbody>\n",
       "    <tr>\n",
       "      <th>87</th>\n",
       "      <td>17406</td>\n",
       "      <td>1</td>\n",
       "      <td>2017-04-18</td>\n",
       "      <td>early.season</td>\n",
       "      <td>C</td>\n",
       "      <td>non-native</td>\n",
       "      <td>hand netting</td>\n",
       "      <td>Trifolium incarnatum</td>\n",
       "      <td>1320</td>\n",
       "      <td>Apis mellifera</td>\n",
       "      <td>f</td>\n",
       "      <td></td>\n",
       "      <td>0.0</td>\n",
       "      <td>hive</td>\n",
       "      <td></td>\n",
       "      <td>1.0</td>\n",
       "    </tr>\n",
       "    <tr>\n",
       "      <th>88</th>\n",
       "      <td>17406</td>\n",
       "      <td>2</td>\n",
       "      <td>2017-04-18</td>\n",
       "      <td>early.season</td>\n",
       "      <td>C</td>\n",
       "      <td>non-native</td>\n",
       "      <td>hand netting</td>\n",
       "      <td>Viola cornuta</td>\n",
       "      <td>1320</td>\n",
       "      <td>Lasioglossum cressonii</td>\n",
       "      <td>f</td>\n",
       "      <td></td>\n",
       "      <td>0.0</td>\n",
       "      <td>wood</td>\n",
       "      <td></td>\n",
       "      <td>0.0</td>\n",
       "    </tr>\n",
       "    <tr>\n",
       "      <th>89</th>\n",
       "      <td>17406</td>\n",
       "      <td>2</td>\n",
       "      <td>2017-04-18</td>\n",
       "      <td>early.season</td>\n",
       "      <td>C</td>\n",
       "      <td>non-native</td>\n",
       "      <td>hand netting</td>\n",
       "      <td>Viola cornuta</td>\n",
       "      <td>1320</td>\n",
       "      <td>Ceratina calcarata</td>\n",
       "      <td>f</td>\n",
       "      <td></td>\n",
       "      <td>0.0</td>\n",
       "      <td>wood</td>\n",
       "      <td></td>\n",
       "      <td>0.0</td>\n",
       "    </tr>\n",
       "    <tr>\n",
       "      <th>106</th>\n",
       "      <td>17409</td>\n",
       "      <td>1</td>\n",
       "      <td>2017-05-02</td>\n",
       "      <td>early.season</td>\n",
       "      <td>A</td>\n",
       "      <td>non-native</td>\n",
       "      <td>hand netting</td>\n",
       "      <td>Trifolium repens</td>\n",
       "      <td>1340</td>\n",
       "      <td>Halictus parallelus</td>\n",
       "      <td>f</td>\n",
       "      <td></td>\n",
       "      <td>0.0</td>\n",
       "      <td>ground</td>\n",
       "      <td></td>\n",
       "      <td>0.0</td>\n",
       "    </tr>\n",
       "    <tr>\n",
       "      <th>107</th>\n",
       "      <td>17409</td>\n",
       "      <td>10</td>\n",
       "      <td>2017-05-02</td>\n",
       "      <td>early.season</td>\n",
       "      <td>A</td>\n",
       "      <td>non-native</td>\n",
       "      <td>hand netting</td>\n",
       "      <td>Leucanthemum vulgare</td>\n",
       "      <td>1340</td>\n",
       "      <td>Halictus poeyi/ligatus</td>\n",
       "      <td>f</td>\n",
       "      <td></td>\n",
       "      <td>0.0</td>\n",
       "      <td>ground</td>\n",
       "      <td></td>\n",
       "      <td>0.0</td>\n",
       "    </tr>\n",
       "    <tr>\n",
       "      <th>...</th>\n",
       "      <td>...</td>\n",
       "      <td>...</td>\n",
       "      <td>...</td>\n",
       "      <td>...</td>\n",
       "      <td>...</td>\n",
       "      <td>...</td>\n",
       "      <td>...</td>\n",
       "      <td>...</td>\n",
       "      <td>...</td>\n",
       "      <td>...</td>\n",
       "      <td>...</td>\n",
       "      <td>...</td>\n",
       "      <td>...</td>\n",
       "      <td>...</td>\n",
       "      <td>...</td>\n",
       "      <td>...</td>\n",
       "    </tr>\n",
       "    <tr>\n",
       "      <th>1245</th>\n",
       "      <td>17481</td>\n",
       "      <td>11</td>\n",
       "      <td>2017-08-02</td>\n",
       "      <td>late.season</td>\n",
       "      <td>B</td>\n",
       "      <td>non-native</td>\n",
       "      <td>hand netting</td>\n",
       "      <td>Cichorium intybus</td>\n",
       "      <td>930</td>\n",
       "      <td>Halictus poeyi/ligatus</td>\n",
       "      <td>f</td>\n",
       "      <td></td>\n",
       "      <td>0.0</td>\n",
       "      <td>ground</td>\n",
       "      <td></td>\n",
       "      <td>0.0</td>\n",
       "    </tr>\n",
       "    <tr>\n",
       "      <th>1246</th>\n",
       "      <td>17481</td>\n",
       "      <td>11</td>\n",
       "      <td>2017-08-02</td>\n",
       "      <td>late.season</td>\n",
       "      <td>B</td>\n",
       "      <td>non-native</td>\n",
       "      <td>hand netting</td>\n",
       "      <td>Cichorium intybus</td>\n",
       "      <td>930</td>\n",
       "      <td>Halictus poeyi/ligatus</td>\n",
       "      <td>f</td>\n",
       "      <td></td>\n",
       "      <td>0.0</td>\n",
       "      <td>ground</td>\n",
       "      <td></td>\n",
       "      <td>0.0</td>\n",
       "    </tr>\n",
       "    <tr>\n",
       "      <th>1247</th>\n",
       "      <td>17481</td>\n",
       "      <td>11</td>\n",
       "      <td>2017-08-02</td>\n",
       "      <td>late.season</td>\n",
       "      <td>B</td>\n",
       "      <td>non-native</td>\n",
       "      <td>hand netting</td>\n",
       "      <td>Cichorium intybus</td>\n",
       "      <td>930</td>\n",
       "      <td>Halictus poeyi/ligatus</td>\n",
       "      <td>f</td>\n",
       "      <td></td>\n",
       "      <td>0.0</td>\n",
       "      <td>ground</td>\n",
       "      <td></td>\n",
       "      <td>0.0</td>\n",
       "    </tr>\n",
       "    <tr>\n",
       "      <th>1248</th>\n",
       "      <td>17481</td>\n",
       "      <td>11</td>\n",
       "      <td>2017-08-02</td>\n",
       "      <td>late.season</td>\n",
       "      <td>B</td>\n",
       "      <td>non-native</td>\n",
       "      <td>hand netting</td>\n",
       "      <td>Cichorium intybus</td>\n",
       "      <td>930</td>\n",
       "      <td>Halictus poeyi/ligatus</td>\n",
       "      <td>f</td>\n",
       "      <td></td>\n",
       "      <td>0.0</td>\n",
       "      <td>ground</td>\n",
       "      <td></td>\n",
       "      <td>0.0</td>\n",
       "    </tr>\n",
       "    <tr>\n",
       "      <th>1249</th>\n",
       "      <td>17481</td>\n",
       "      <td>11</td>\n",
       "      <td>2017-08-02</td>\n",
       "      <td>late.season</td>\n",
       "      <td>B</td>\n",
       "      <td>non-native</td>\n",
       "      <td>hand netting</td>\n",
       "      <td>Cichorium intybus</td>\n",
       "      <td>930</td>\n",
       "      <td>Halictus poeyi/ligatus</td>\n",
       "      <td>f</td>\n",
       "      <td></td>\n",
       "      <td>0.0</td>\n",
       "      <td>ground</td>\n",
       "      <td></td>\n",
       "      <td>0.0</td>\n",
       "    </tr>\n",
       "  </tbody>\n",
       "</table>\n",
       "<p>430 rows × 16 columns</p>\n",
       "</div>"
      ],
      "text/plain": [
       "      sample_id  bees_num       date        season site native_or_non  \\\n",
       "87        17406         1 2017-04-18  early.season    C    non-native   \n",
       "88        17406         2 2017-04-18  early.season    C    non-native   \n",
       "89        17406         2 2017-04-18  early.season    C    non-native   \n",
       "106       17409         1 2017-05-02  early.season    A    non-native   \n",
       "107       17409        10 2017-05-02  early.season    A    non-native   \n",
       "...         ...       ...        ...           ...  ...           ...   \n",
       "1245      17481        11 2017-08-02   late.season    B    non-native   \n",
       "1246      17481        11 2017-08-02   late.season    B    non-native   \n",
       "1247      17481        11 2017-08-02   late.season    B    non-native   \n",
       "1248      17481        11 2017-08-02   late.season    B    non-native   \n",
       "1249      17481        11 2017-08-02   late.season    B    non-native   \n",
       "\n",
       "          sampling         plant_species  time             bee_species sex  \\\n",
       "87    hand netting  Trifolium incarnatum  1320          Apis mellifera   f   \n",
       "88    hand netting         Viola cornuta  1320  Lasioglossum cressonii   f   \n",
       "89    hand netting         Viola cornuta  1320      Ceratina calcarata   f   \n",
       "106   hand netting      Trifolium repens  1340     Halictus parallelus   f   \n",
       "107   hand netting  Leucanthemum vulgare  1340  Halictus poeyi/ligatus   f   \n",
       "...            ...                   ...   ...                     ...  ..   \n",
       "1245  hand netting     Cichorium intybus   930  Halictus poeyi/ligatus   f   \n",
       "1246  hand netting     Cichorium intybus   930  Halictus poeyi/ligatus   f   \n",
       "1247  hand netting     Cichorium intybus   930  Halictus poeyi/ligatus   f   \n",
       "1248  hand netting     Cichorium intybus   930  Halictus poeyi/ligatus   f   \n",
       "1249  hand netting     Cichorium intybus   930  Halictus poeyi/ligatus   f   \n",
       "\n",
       "     specialized_on  parasitic nesting status  nonnative_bee  \n",
       "87                         0.0    hive                   1.0  \n",
       "88                         0.0    wood                   0.0  \n",
       "89                         0.0    wood                   0.0  \n",
       "106                        0.0  ground                   0.0  \n",
       "107                        0.0  ground                   0.0  \n",
       "...             ...        ...     ...    ...            ...  \n",
       "1245                       0.0  ground                   0.0  \n",
       "1246                       0.0  ground                   0.0  \n",
       "1247                       0.0  ground                   0.0  \n",
       "1248                       0.0  ground                   0.0  \n",
       "1249                       0.0  ground                   0.0  \n",
       "\n",
       "[430 rows x 16 columns]"
      ]
     },
     "execution_count": 121,
     "metadata": {},
     "output_type": "execute_result"
    }
   ],
   "source": [
    "df"
   ]
  },
  {
   "cell_type": "markdown",
   "metadata": {},
   "source": [
    "#### Challange💪 02\n",
    "- Which plants are preferred by native vs non-native bee species? To determine which plants are preferred by native and non-native bees, use a machine learning algorithm by choice.\n"
   ]
  },
  {
   "cell_type": "code",
   "execution_count": 125,
   "metadata": {},
   "outputs": [],
   "source": [
    "import pandas as pd\n",
    "from sklearn.model_selection import train_test_split\n",
    "from sklearn.tree import DecisionTreeClassifier\n",
    "from sklearn.preprocessing import LabelEncoder\n",
    "from sklearn.metrics import accuracy_score, classification_report"
   ]
  },
  {
   "cell_type": "code",
   "execution_count": 126,
   "metadata": {},
   "outputs": [],
   "source": [
    "# Encode categorical variables\n",
    "le = LabelEncoder()\n",
    "df['season_encoded'] = le.fit_transform(df['season'])\n",
    "df['native_or_non_encoded'] = le.fit_transform(df['native_or_non'])\n",
    "df['plant_species_encoded'] = le.fit_transform(df['plant_species'])\n",
    "df['specialized_on_encoded'] = le.fit_transform(df['specialized_on'])"
   ]
  },
  {
   "cell_type": "code",
   "execution_count": 127,
   "metadata": {},
   "outputs": [],
   "source": [
    "# Define features and target variable\n",
    "features = ['season_encoded', 'native_or_non_encoded', 'plant_species_encoded', 'specialized_on_encoded']\n",
    "target = 'nonnative_bee'  # 1 for non-native bee, 0 for native bee"
   ]
  },
  {
   "cell_type": "code",
   "execution_count": 128,
   "metadata": {},
   "outputs": [],
   "source": [
    "X_train, X_test, y_train, y_test = train_test_split(df[features], df[target], test_size=0.2, random_state=42)\n"
   ]
  },
  {
   "cell_type": "code",
   "execution_count": 129,
   "metadata": {},
   "outputs": [
    {
     "data": {
      "text/html": [
       "<style>#sk-container-id-4 {color: black;background-color: white;}#sk-container-id-4 pre{padding: 0;}#sk-container-id-4 div.sk-toggleable {background-color: white;}#sk-container-id-4 label.sk-toggleable__label {cursor: pointer;display: block;width: 100%;margin-bottom: 0;padding: 0.3em;box-sizing: border-box;text-align: center;}#sk-container-id-4 label.sk-toggleable__label-arrow:before {content: \"▸\";float: left;margin-right: 0.25em;color: #696969;}#sk-container-id-4 label.sk-toggleable__label-arrow:hover:before {color: black;}#sk-container-id-4 div.sk-estimator:hover label.sk-toggleable__label-arrow:before {color: black;}#sk-container-id-4 div.sk-toggleable__content {max-height: 0;max-width: 0;overflow: hidden;text-align: left;background-color: #f0f8ff;}#sk-container-id-4 div.sk-toggleable__content pre {margin: 0.2em;color: black;border-radius: 0.25em;background-color: #f0f8ff;}#sk-container-id-4 input.sk-toggleable__control:checked~div.sk-toggleable__content {max-height: 200px;max-width: 100%;overflow: auto;}#sk-container-id-4 input.sk-toggleable__control:checked~label.sk-toggleable__label-arrow:before {content: \"▾\";}#sk-container-id-4 div.sk-estimator input.sk-toggleable__control:checked~label.sk-toggleable__label {background-color: #d4ebff;}#sk-container-id-4 div.sk-label input.sk-toggleable__control:checked~label.sk-toggleable__label {background-color: #d4ebff;}#sk-container-id-4 input.sk-hidden--visually {border: 0;clip: rect(1px 1px 1px 1px);clip: rect(1px, 1px, 1px, 1px);height: 1px;margin: -1px;overflow: hidden;padding: 0;position: absolute;width: 1px;}#sk-container-id-4 div.sk-estimator {font-family: monospace;background-color: #f0f8ff;border: 1px dotted black;border-radius: 0.25em;box-sizing: border-box;margin-bottom: 0.5em;}#sk-container-id-4 div.sk-estimator:hover {background-color: #d4ebff;}#sk-container-id-4 div.sk-parallel-item::after {content: \"\";width: 100%;border-bottom: 1px solid gray;flex-grow: 1;}#sk-container-id-4 div.sk-label:hover label.sk-toggleable__label {background-color: #d4ebff;}#sk-container-id-4 div.sk-serial::before {content: \"\";position: absolute;border-left: 1px solid gray;box-sizing: border-box;top: 0;bottom: 0;left: 50%;z-index: 0;}#sk-container-id-4 div.sk-serial {display: flex;flex-direction: column;align-items: center;background-color: white;padding-right: 0.2em;padding-left: 0.2em;position: relative;}#sk-container-id-4 div.sk-item {position: relative;z-index: 1;}#sk-container-id-4 div.sk-parallel {display: flex;align-items: stretch;justify-content: center;background-color: white;position: relative;}#sk-container-id-4 div.sk-item::before, #sk-container-id-4 div.sk-parallel-item::before {content: \"\";position: absolute;border-left: 1px solid gray;box-sizing: border-box;top: 0;bottom: 0;left: 50%;z-index: -1;}#sk-container-id-4 div.sk-parallel-item {display: flex;flex-direction: column;z-index: 1;position: relative;background-color: white;}#sk-container-id-4 div.sk-parallel-item:first-child::after {align-self: flex-end;width: 50%;}#sk-container-id-4 div.sk-parallel-item:last-child::after {align-self: flex-start;width: 50%;}#sk-container-id-4 div.sk-parallel-item:only-child::after {width: 0;}#sk-container-id-4 div.sk-dashed-wrapped {border: 1px dashed gray;margin: 0 0.4em 0.5em 0.4em;box-sizing: border-box;padding-bottom: 0.4em;background-color: white;}#sk-container-id-4 div.sk-label label {font-family: monospace;font-weight: bold;display: inline-block;line-height: 1.2em;}#sk-container-id-4 div.sk-label-container {text-align: center;}#sk-container-id-4 div.sk-container {/* jupyter's `normalize.less` sets `[hidden] { display: none; }` but bootstrap.min.css set `[hidden] { display: none !important; }` so we also need the `!important` here to be able to override the default hidden behavior on the sphinx rendered scikit-learn.org. See: https://github.com/scikit-learn/scikit-learn/issues/21755 */display: inline-block !important;position: relative;}#sk-container-id-4 div.sk-text-repr-fallback {display: none;}</style><div id=\"sk-container-id-4\" class=\"sk-top-container\"><div class=\"sk-text-repr-fallback\"><pre>RandomForestClassifier(random_state=42)</pre><b>In a Jupyter environment, please rerun this cell to show the HTML representation or trust the notebook. <br />On GitHub, the HTML representation is unable to render, please try loading this page with nbviewer.org.</b></div><div class=\"sk-container\" hidden><div class=\"sk-item\"><div class=\"sk-estimator sk-toggleable\"><input class=\"sk-toggleable__control sk-hidden--visually\" id=\"sk-estimator-id-4\" type=\"checkbox\" checked><label for=\"sk-estimator-id-4\" class=\"sk-toggleable__label sk-toggleable__label-arrow\">RandomForestClassifier</label><div class=\"sk-toggleable__content\"><pre>RandomForestClassifier(random_state=42)</pre></div></div></div></div></div>"
      ],
      "text/plain": [
       "RandomForestClassifier(random_state=42)"
      ]
     },
     "execution_count": 129,
     "metadata": {},
     "output_type": "execute_result"
    }
   ],
   "source": [
    "# Initialize and train the Random Forest Classifier\n",
    "rf_classifier = RandomForestClassifier(random_state=42)\n",
    "rf_classifier.fit(X_train, y_train)"
   ]
  },
  {
   "cell_type": "code",
   "execution_count": 130,
   "metadata": {},
   "outputs": [],
   "source": [
    "# Make predictions on the test set\n",
    "y_pred = rf_classifier.predict(X_test)"
   ]
  },
  {
   "cell_type": "code",
   "execution_count": 131,
   "metadata": {},
   "outputs": [
    {
     "name": "stderr",
     "output_type": "stream",
     "text": [
      "c:\\Users\\AhMed_RaFiQ\\anaconda3\\Lib\\site-packages\\sklearn\\metrics\\_classification.py:1344: UndefinedMetricWarning: Precision and F-score are ill-defined and being set to 0.0 in labels with no predicted samples. Use `zero_division` parameter to control this behavior.\n",
      "  _warn_prf(average, modifier, msg_start, len(result))\n",
      "c:\\Users\\AhMed_RaFiQ\\anaconda3\\Lib\\site-packages\\sklearn\\metrics\\_classification.py:1344: UndefinedMetricWarning: Precision and F-score are ill-defined and being set to 0.0 in labels with no predicted samples. Use `zero_division` parameter to control this behavior.\n",
      "  _warn_prf(average, modifier, msg_start, len(result))\n",
      "c:\\Users\\AhMed_RaFiQ\\anaconda3\\Lib\\site-packages\\sklearn\\metrics\\_classification.py:1344: UndefinedMetricWarning: Precision and F-score are ill-defined and being set to 0.0 in labels with no predicted samples. Use `zero_division` parameter to control this behavior.\n",
      "  _warn_prf(average, modifier, msg_start, len(result))\n"
     ]
    }
   ],
   "source": [
    "# Evaluate the model\n",
    "accuracy = accuracy_score(y_test, y_pred)\n",
    "classification_rep = classification_report(y_test, y_pred)"
   ]
  },
  {
   "cell_type": "code",
   "execution_count": 132,
   "metadata": {},
   "outputs": [
    {
     "name": "stdout",
     "output_type": "stream",
     "text": [
      "Accuracy: 0.9883720930232558\n",
      "Classification Report:\n",
      "               precision    recall  f1-score   support\n",
      "\n",
      "         0.0       0.99      1.00      0.99        85\n",
      "         1.0       0.00      0.00      0.00         1\n",
      "\n",
      "    accuracy                           0.99        86\n",
      "   macro avg       0.49      0.50      0.50        86\n",
      "weighted avg       0.98      0.99      0.98        86\n",
      "\n"
     ]
    }
   ],
   "source": [
    "print(f\"Accuracy: {accuracy}\")\n",
    "print(\"Classification Report:\\n\", classification_rep)"
   ]
  },
  {
   "cell_type": "code",
   "execution_count": 136,
   "metadata": {},
   "outputs": [
    {
     "name": "stdout",
     "output_type": "stream",
     "text": [
      "Feature Importances:\n",
      " season_encoded            0.208278\n",
      "native_or_non_encoded     0.081467\n",
      "plant_species_encoded     0.710255\n",
      "specialized_on_encoded    0.000000\n",
      "dtype: float64\n"
     ]
    }
   ],
   "source": [
    "# Feature importance\n",
    "feature_importances = pd.Series(rf_classifier.feature_importances_, index=features)\n",
    "print(\"Feature Importances:\\n\", feature_importances)\n",
    "\n"
   ]
  },
  {
   "cell_type": "code",
   "execution_count": 137,
   "metadata": {},
   "outputs": [
    {
     "name": "stdout",
     "output_type": "stream",
     "text": [
      "Preferred plants by non-native bees:\n",
      " ['Trifolium incarnatum' 'Daucus carota']\n"
     ]
    }
   ],
   "source": [
    "# Extract preferred plants by non-native bees\n",
    "preferred_plants_non_native = df[df['nonnative_bee'] == 1]['plant_species'].unique()\n",
    "print(\"Preferred plants by non-native bees:\\n\", preferred_plants_non_native)"
   ]
  },
  {
   "cell_type": "code",
   "execution_count": 142,
   "metadata": {},
   "outputs": [
    {
     "name": "stdout",
     "output_type": "stream",
     "text": [
      "[17406 17409 17412 17415 17418 17420 17422 17425 17427 17429 17431 17433\n",
      " 17435 17437 17439 17441 17443 17445 17447 17450 17452 17454 17456 17458\n",
      " 17459 17461 17463 17465 17466 17469 17471 17473 17475 17477 17479 17481]\n"
     ]
    }
   ],
   "source": [
    "print(df['sample_id'].unique())\n"
   ]
  },
  {
   "cell_type": "markdown",
   "metadata": {},
   "source": [
    "#### Challange 💪 03\n",
    "- A visualization of the distribution of bee and plant species across one of the samples.\n"
   ]
  },
  {
   "cell_type": "code",
   "execution_count": 143,
   "metadata": {},
   "outputs": [],
   "source": [
    "# Choose a specific sample_id for visualization\n",
    "sample_id_to_visualize = 17406  # Replace with the desired sample_id\n",
    "\n",
    "# Filter the dataset for the chosen sample_id\n",
    "selected_sample = df[df['sample_id'] == sample_id_to_visualize]"
   ]
  },
  {
   "cell_type": "code",
   "execution_count": 145,
   "metadata": {},
   "outputs": [
    {
     "data": {
      "image/png": "[encoded data removed]",
      "text/plain": [
       "<Figure size 600x400 with 1 Axes>"
      ]
     },
     "metadata": {},
     "output_type": "display_data"
    },
    {
     "data": {
      "image/png": "[encoded data removed]",
      "text/plain": [
       "<Figure size 600x400 with 1 Axes>"
      ]
     },
     "metadata": {},
     "output_type": "display_data"
    }
   ],
   "source": [
    "# Check if the selected sample is not empty\n",
    "if not selected_sample.empty:\n",
    "    # Plot the distribution of bee species\n",
    "    plt.figure(figsize=(6, 4))\n",
    "    sns.countplot(x='bee_species', data=selected_sample, palette='viridis', order=selected_sample['bee_species'].value_counts().index)\n",
    "    plt.title(f'Distribution of Bee Species in Sample {sample_id_to_visualize}')\n",
    "    plt.xlabel('Bee Species')\n",
    "    plt.ylabel('Count')\n",
    "    plt.xticks(rotation=45, ha='right')  # Rotate x-axis labels for better visibility\n",
    "    plt.show()\n",
    "\n",
    "    # Plot the distribution of plant species\n",
    "    plt.figure(figsize=(6, 4))\n",
    "    sns.countplot(x='plant_species', data=selected_sample, palette='muted', order=selected_sample['plant_species'].value_counts().index)\n",
    "    plt.title(f'Distribution of Plant Species in Sample {sample_id_to_visualize}')\n",
    "    plt.xlabel('Plant Species')\n",
    "    plt.ylabel('Count')\n",
    "    plt.xticks(rotation=45, ha='right')  # Rotate x-axis labels for better visibility\n",
    "    plt.show()\n",
    "else:\n",
    "    print(f\"No data found for sample {sample_id_to_visualize}.\")"
   ]
  },
  {
   "cell_type": "markdown",
   "metadata": {},
   "source": [
    "#### Challange 💪 04\n",
    "- Select the top three plant species you would recommend to the agency to support native bees.\n"
   ]
  },
  {
   "cell_type": "code",
   "execution_count": 146,
   "metadata": {},
   "outputs": [],
   "source": [
    "# Filter rows with native bees\n",
    "native_bees_df = df[df['nonnative_bee'] == 0]"
   ]
  },
  {
   "cell_type": "code",
   "execution_count": 147,
   "metadata": {},
   "outputs": [],
   "source": [
    "# Group by plant species and calculate the total count of native bees for each plant\n",
    "native_bees_count = native_bees_df['plant_species'].value_counts()"
   ]
  },
  {
   "cell_type": "code",
   "execution_count": 148,
   "metadata": {},
   "outputs": [
    {
     "data": {
      "image/png": "[encoded data removed]",
      "text/plain": [
       "<Figure size 1200x600 with 1 Axes>"
      ]
     },
     "metadata": {},
     "output_type": "display_data"
    }
   ],
   "source": [
    "# Select the top three plant species\n",
    "top_three_plants = native_bees_count.head(3)\n",
    "\n",
    "# Plot the distribution of native bees across plant species\n",
    "plt.figure(figsize=(12, 6))\n",
    "sns.barplot(x=top_three_plants.index, y=top_three_plants.values, palette='viridis')\n",
    "plt.title('Top Three Plant Species to Support Native Bees')\n",
    "plt.xlabel('Plant Species')\n",
    "plt.ylabel('Count of Native Bees')\n",
    "plt.xticks(rotation=45, ha='right')  # Rotate x-axis labels for better visibility\n",
    "plt.show()"
   ]
  },
  {
   "cell_type": "code",
   "execution_count": 150,
   "metadata": {},
   "outputs": [
    {
     "name": "stdout",
     "output_type": "stream",
     "text": [
      "Top Three Plant Species to Support Native Bees:\n",
      "Leucanthemum vulgare    105\n",
      "Rudbeckia hirta          59\n",
      "Daucus carota            32\n",
      "Name: plant_species, dtype: int64\n"
     ]
    }
   ],
   "source": [
    "# Display the top three plant species\n",
    "print(\"Top Three Plant Species to Support Native Bees:\")\n",
    "print(top_three_plants)"
   ]
  },
  {
   "cell_type": "markdown",
   "metadata": {},
   "source": [
    "#### Challange 💪 05\n",
    "#### A small conclusion with your recommendations.\n",
    "\n",
    "So, the information we have helps us see what plants native bees like. But these suggestions should just be a beginning for more research and working together. The main aim is to create strong nature areas that actively help wild bees and add to the bigger plan of protecting many kinds of living things."
   ]
  },
  {
   "cell_type": "markdown",
   "metadata": {},
   "source": []
  }
 ],
 "metadata": {
  "kernelspec": {
   "display_name": "base",
   "language": "python",
   "name": "python3"
  },
  "language_info": {
   "codemirror_mode": {
    "name": "ipython",
    "version": 3
   },
   "file_extension": ".py",
   "mimetype": "text/x-python",
   "name": "python",
   "nbconvert_exporter": "python",
   "pygments_lexer": "ipython3",
   "version": "3.11.5"
  }
 },
 "nbformat": 4,
 "nbformat_minor": 2
}
